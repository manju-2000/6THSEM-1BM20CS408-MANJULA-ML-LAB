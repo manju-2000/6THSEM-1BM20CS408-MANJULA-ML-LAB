{
  "nbformat": 4,
  "nbformat_minor": 0,
  "metadata": {
    "colab": {
      "name": "ML-B2 Lab1.ipynb",
      "provenance": []
    },
    "kernelspec": {
      "name": "python3",
      "display_name": "Python 3"
    },
    "language_info": {
      "name": "python"
    }
  },
  "cells": [
    {
      "cell_type": "markdown",
      "source": [
        "#NAME: Kusum M R\n",
        "#USN: 1BM19CS077\n",
        "#ML-Lab 1"
      ],
      "metadata": {
        "id": "k8b5ZoUcVjPA"
      }
    },
    {
      "cell_type": "code",
      "execution_count": 14,
      "metadata": {
        "colab": {
          "base_uri": "https://localhost:8080/"
        },
        "id": "kb568etX5Mtj",
        "outputId": "9dcc7a44-9e08-493b-f7f8-422f0a793139"
      },
      "outputs": [
        {
          "output_type": "stream",
          "name": "stdout",
          "text": [
            "    Color Toughness Fungus Appearance Poisonous\n",
            "0   GREEN      HARD     NO   WRINKLED       YES\n",
            "1   GREEN      HARD    YES     SMOOTH        NO\n",
            "2   BROWN      SOFT     NO   WRINKLED        NO\n",
            "3  ORANGE      HARD     NO   WRINKLED       YES\n",
            "4   GREEN      SOFT    YES     SMOOTH       YES\n",
            "5   GREEN      HARD    YES   WRINKLED       YES\n",
            "6  ORANGE      HARD     NO   WRINKLED       YES\n",
            "\n",
            " The attributes are:  [['GREEN' 'HARD' 'NO' 'WRINKLED']\n",
            " ['GREEN' 'HARD' 'YES' 'SMOOTH']\n",
            " ['BROWN' 'SOFT' 'NO' 'WRINKLED']\n",
            " ['ORANGE' 'HARD' 'NO' 'WRINKLED']\n",
            " ['GREEN' 'SOFT' 'YES' 'SMOOTH']\n",
            " ['GREEN' 'HARD' 'YES' 'WRINKLED']\n",
            " ['ORANGE' 'HARD' 'NO' 'WRINKLED']]\n",
            "\n",
            " The target is:  ['YES' 'NO' 'NO' 'YES' 'YES' 'YES' 'YES']\n"
          ]
        }
      ],
      "source": [
        "import pandas as pd #supports for multi dimensional array # built on top of Numpy\n",
        "import numpy as np\n",
        "\n",
        "# to read the data in the csv file\n",
        "data = pd.read_csv(\"/content/data.csv\")\n",
        "print(data)\n",
        "\n",
        "# making an array of all the attributes\n",
        "d = np.array(data)[:, :-1]\n",
        "print(\"\\n The attributes are: \", d)\n",
        "\n",
        "# segragating the target that has positive and negative examples\n",
        "target = np.array(data)[:, -1]\n",
        "print(\"\\n The target is: \", target)\n",
        "\n",
        "\n",
        "# training function to implement find-s algorithm\n",
        "def train(c, t):\n",
        "    for i, val in enumerate(t):\n",
        "        if val == \"YES\":\n",
        "            specific_hypothesis = c[i].copy()\n",
        "            print(\"sh is \", specific_hypothesis)\n",
        "            break\n",
        "    for i, val in enumerate(c):\n",
        "        if t[i] == \"YES\":\n",
        "            for x in range(len(specific_hypothesis)):\n",
        "                if val[x] != specific_hypothesis[x]:\n",
        "                    specific_hypothesis[x] = '?'\n",
        "                else:\n",
        "                    pass\n",
        "    return specific_hypothesis"
      ]
    },
    {
      "cell_type": "code",
      "source": [
        "#print(\"Specific hypothesis is: \",train(d,target))\n",
        "train(d,target)"
      ],
      "metadata": {
        "colab": {
          "base_uri": "https://localhost:8080/"
        },
        "id": "TLFo3bcJKc_Q",
        "outputId": "c064faa2-e2fa-4f49-c176-8ced1645a0ae"
      },
      "execution_count": 15,
      "outputs": [
        {
          "output_type": "stream",
          "name": "stdout",
          "text": [
            "sh is  ['GREEN' 'HARD' 'NO' 'WRINKLED']\n"
          ]
        },
        {
          "output_type": "execute_result",
          "data": {
            "text/plain": [
              "array(['?', '?', '?', '?'], dtype=object)"
            ]
          },
          "metadata": {},
          "execution_count": 15
        }
      ]
    },
    {
      "cell_type": "markdown",
      "source": [
        "#MANUAL INPUT"
      ],
      "metadata": {
        "id": "CEYB-VmeVNP6"
      }
    },
    {
      "cell_type": "code",
      "source": [
        "import pandas as pd #supports for multi dimensional array # built on top of Numpy\n",
        "import numpy as np\n",
        "\n",
        "\n",
        "Row=int(input(\"Ënter the number of rows:\"))\n",
        "C = int(input(\"Enter the number of columns:\"))\n",
        " \n",
        "# Initialize matrix\n",
        "data = []\n",
        "print(\"Enter the entries rowwise:\")\n",
        " \n",
        "# For user input\n",
        "for i in range(Row):          # A for loop for row entries\n",
        "    a =[]\n",
        "    for j in range(C):      # A for loop for column entries\n",
        "         a.append(input())\n",
        "    data.append(a)\n",
        " \n",
        "print(data)\n",
        "\n",
        "\n",
        "d = np.array(data)[:, :-1]\n",
        "print(\"\\n The attributes are: \", d)\n",
        "\n",
        "\n",
        "target = np.array(data)[:, -1]\n",
        "print(\"\\n The target is: \", target)\n",
        "\n",
        "def FindS(c, t):\n",
        "    for i, val in enumerate(t):\n",
        "        if val == \"YES\":\n",
        "            specific_hypothesis = c[i].copy()\n",
        "            print(\"sh is \", specific_hypothesis)\n",
        "            break\n",
        "\n",
        "    for i, val in enumerate(c):\n",
        "        if t[i] == \"YES\":\n",
        "            for x in range(len(specific_hypothesis)):\n",
        "                if val[x] != specific_hypothesis[x]:\n",
        "                    specific_hypothesis[x] = '?'\n",
        "                else:\n",
        "                    pass\n",
        "\n",
        "    return specific_hypothesis\n"
      ],
      "metadata": {
        "colab": {
          "base_uri": "https://localhost:8080/"
        },
        "id": "BUuvkB1K6dFJ",
        "outputId": "1eb895ed-d797-431a-b87b-ccce7f179ee8"
      },
      "execution_count": 18,
      "outputs": [
        {
          "output_type": "stream",
          "name": "stdout",
          "text": [
            "Ënter the number of rows:7\n",
            "Enter the number of columns:5\n",
            "Enter the entries rowwise:\n",
            "GREEN\n",
            "HARD\n",
            "NO\n",
            "WRINKLED\n",
            "YES\n",
            "GREEN\n",
            "HARD\n",
            "YES\n",
            "SMOOTH\n",
            "NO\n",
            "BROWN\n",
            "SOFT\n",
            "NO\n",
            "WRINKLED\n",
            "NO\n",
            "ORANGE\n",
            "HARD\n",
            "NO\n",
            "WRINKLED\n",
            "YES\n",
            "GREEN\n",
            "SOFT\n",
            "YES\n",
            "SMOOTH\n",
            "YES\n",
            "GREEN\n",
            "HARD\n",
            "YES\n",
            "WRINKLED\n",
            "YES\n",
            "ORANGE\n",
            "HARD\n",
            "NO\n",
            "WRINKLED\n",
            "YES\n",
            "[['GREEN', 'HARD', 'NO', 'WRINKLED', 'YES'], ['GREEN', 'HARD', 'YES', 'SMOOTH', 'NO'], ['BROWN', 'SOFT', 'NO', 'WRINKLED', 'NO'], ['ORANGE', 'HARD', 'NO', 'WRINKLED', 'YES'], ['GREEN', 'SOFT', 'YES', 'SMOOTH', 'YES'], ['GREEN', 'HARD', 'YES', 'WRINKLED', 'YES'], ['ORANGE', 'HARD', 'NO', 'WRINKLED', 'YES']]\n",
            "\n",
            " The attributes are:  [['GREEN' 'HARD' 'NO' 'WRINKLED']\n",
            " ['GREEN' 'HARD' 'YES' 'SMOOTH']\n",
            " ['BROWN' 'SOFT' 'NO' 'WRINKLED']\n",
            " ['ORANGE' 'HARD' 'NO' 'WRINKLED']\n",
            " ['GREEN' 'SOFT' 'YES' 'SMOOTH']\n",
            " ['GREEN' 'HARD' 'YES' 'WRINKLED']\n",
            " ['ORANGE' 'HARD' 'NO' 'WRINKLED']]\n",
            "\n",
            " The target is:  ['YES' 'NO' 'NO' 'YES' 'YES' 'YES' 'YES']\n"
          ]
        }
      ]
    },
    {
      "cell_type": "code",
      "source": [
        "FindS(d,target)"
      ],
      "metadata": {
        "colab": {
          "base_uri": "https://localhost:8080/"
        },
        "id": "nKCmsNWQPIsy",
        "outputId": "8127fe6d-87ea-4c25-ab42-73298f828940"
      },
      "execution_count": 19,
      "outputs": [
        {
          "output_type": "stream",
          "name": "stdout",
          "text": [
            "sh is  ['GREEN' 'HARD' 'NO' 'WRINKLED']\n"
          ]
        },
        {
          "output_type": "execute_result",
          "data": {
            "text/plain": [
              "array(['?', '?', '?', '?'], dtype='<U8')"
            ]
          },
          "metadata": {},
          "execution_count": 19
        }
      ]
    }
  ]
}